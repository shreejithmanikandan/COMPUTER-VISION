{
 "cells": [
  {
   "cell_type": "markdown",
   "id": "6ff354a4-718d-4065-a253-9559c5061b5e",
   "metadata": {},
   "source": [
    "1.Add two images using image blending\n",
    "\n",
    "2.Use bit wise and or, xor\n",
    "\n",
    "3.Rotate output image 180"
   ]
  },
  {
   "cell_type": "markdown",
   "id": "89450a23-8849-4ec0-9563-cbbe1fb7f163",
   "metadata": {},
   "source": [
    "# IMPORTING LIBRARIES"
   ]
  },
  {
   "cell_type": "code",
   "execution_count": 4,
   "id": "75a9601d-1a48-4a9e-a7b9-76c47f738ce6",
   "metadata": {},
   "outputs": [],
   "source": [
    "import cv2\n",
    "import numpy as np"
   ]
  },
  {
   "cell_type": "markdown",
   "id": "1f856c39-1bd6-4833-ba16-8378cde26105",
   "metadata": {},
   "source": [
    "# READING THE IMAGES"
   ]
  },
  {
   "cell_type": "code",
   "execution_count": 6,
   "id": "12c94e2c-4f51-4714-b952-de26ae6844cc",
   "metadata": {},
   "outputs": [
    {
     "name": "stdout",
     "output_type": "stream",
     "text": [
      "751\n",
      "564\n"
     ]
    }
   ],
   "source": [
    "img1 = cv2.imread(\"tanjiro.jpg\")\n",
    "img2 = cv2.imread(\"tree.jpeg\")\n",
    "\n",
    "cv2.imshow('Image1',img1)\n",
    "cv2.imshow('Image2',img2)\n",
    "\n",
    "height,width = img1.shape[:2]\n",
    "height,width = img2.shape[:2]\n",
    "print(height)\n",
    "print(width)\n",
    "\n",
    "cv2.waitKey(0)\n",
    "cv2.destroyAllWindows()"
   ]
  },
  {
   "cell_type": "markdown",
   "id": "031b24a2-045d-4ca1-ba62-9feec1ebddd5",
   "metadata": {},
   "source": [
    "# CHECKING SHAPE OF THE IMAGES"
   ]
  },
  {
   "cell_type": "code",
   "execution_count": 8,
   "id": "ecfd320c-7252-4f46-ae6a-d711a11cdf3b",
   "metadata": {},
   "outputs": [
    {
     "data": {
      "text/plain": [
       "(1920, 1080, 3)"
      ]
     },
     "execution_count": 8,
     "metadata": {},
     "output_type": "execute_result"
    }
   ],
   "source": [
    "img1.shape"
   ]
  },
  {
   "cell_type": "code",
   "execution_count": 9,
   "id": "9d896c1d-d78f-4690-b0ae-606b9cb8d069",
   "metadata": {},
   "outputs": [
    {
     "data": {
      "text/plain": [
       "(751, 564, 3)"
      ]
     },
     "execution_count": 9,
     "metadata": {},
     "output_type": "execute_result"
    }
   ],
   "source": [
    "img2.shape"
   ]
  },
  {
   "cell_type": "markdown",
   "id": "b3ad47b3-0649-4e15-8117-92793b6d8cba",
   "metadata": {},
   "source": [
    "# RESIZING THE IMAGES"
   ]
  },
  {
   "cell_type": "code",
   "execution_count": 11,
   "id": "808c5385-a4d7-409c-841f-a5c9c045f45d",
   "metadata": {},
   "outputs": [],
   "source": [
    "img1 = cv2.resize(img1,(700,500))\n",
    "img2 = cv2.resize(img2,(700,500))"
   ]
  },
  {
   "cell_type": "markdown",
   "id": "b6d7a0e4-fe34-4800-aee0-12d0d5a8011f",
   "metadata": {},
   "source": [
    "# ADDING IMAGES"
   ]
  },
  {
   "cell_type": "code",
   "execution_count": 13,
   "id": "a8720737-17ae-401d-8304-7a75810acbaa",
   "metadata": {},
   "outputs": [],
   "source": [
    "added_image = cv2.add(img1,img2)\n",
    "cv2.imshow('added_image',added_image)\n",
    "cv2.waitKey(0)\n",
    "cv2.destroyAllWindows()"
   ]
  },
  {
   "cell_type": "code",
   "execution_count": 14,
   "id": "e2bee006-0096-4056-ad0c-a268b0af7571",
   "metadata": {},
   "outputs": [],
   "source": [
    "imAdd = cv2.addWeighted(img1,0.5,img2,0.5,0)\n",
    "cv2.imshow(\"imAdd\",imAdd)\n",
    "cv2.waitKey(0)\n",
    "cv2.destroyAllWindows()"
   ]
  },
  {
   "cell_type": "markdown",
   "id": "6840d8bc-6fb2-4d12-bba9-a868562ff4c2",
   "metadata": {},
   "source": [
    "# BITWISE OPERATORS"
   ]
  },
  {
   "cell_type": "code",
   "execution_count": 16,
   "id": "32f565d7-17f1-440a-a681-fab13b10af74",
   "metadata": {},
   "outputs": [],
   "source": [
    "bitwise_and = cv2.bitwise_and(img1, img2,mask = None)"
   ]
  },
  {
   "cell_type": "code",
   "execution_count": 17,
   "id": "9b93c4f3-45dd-47aa-92ad-214e4b67b7cc",
   "metadata": {},
   "outputs": [],
   "source": [
    "bitwise_or = cv2.bitwise_or(img1, img2,mask = None)"
   ]
  },
  {
   "cell_type": "code",
   "execution_count": 18,
   "id": "c0bd86c2-cb28-4277-b3d8-5d555da2da6a",
   "metadata": {},
   "outputs": [],
   "source": [
    "bitwise_xor = cv2.bitwise_xor(img1, img2,mask = None)"
   ]
  },
  {
   "cell_type": "markdown",
   "id": "e99317e6-87d4-4ddd-a48d-e9acce3c717c",
   "metadata": {},
   "source": [
    "# DISPLAYING THE IMAGES"
   ]
  },
  {
   "cell_type": "code",
   "execution_count": 20,
   "id": "ac08a776-90e6-4f40-85f2-19a9bc2a17d7",
   "metadata": {},
   "outputs": [],
   "source": [
    "cv2.imshow(\"img1\",img1)\n",
    "cv2.imshow(\"image2\",img2)\n",
    "cv2.imshow(\"bitwise_or\",bitwise_or)\n",
    "cv2.imshow(\"bitwise_and\",bitwise_and)\n",
    "cv2.imshow(\"bitwise_xor\",bitwise_xor)\n",
    "\n",
    "cv2.waitKey(0)\n",
    "cv2.destroyAllWindows()\n"
   ]
  },
  {
   "cell_type": "code",
   "execution_count": 21,
   "id": "5b7f8c4d-c48c-4c37-abee-266346e7de73",
   "metadata": {},
   "outputs": [
    {
     "data": {
      "text/plain": [
       "(375.5, 282.0)"
      ]
     },
     "execution_count": 21,
     "metadata": {},
     "output_type": "execute_result"
    }
   ],
   "source": [
    "center =(height/2,width /2)\n",
    "center"
   ]
  },
  {
   "cell_type": "markdown",
   "id": "8a4b1a48-71f8-40a4-92b4-7206456690d5",
   "metadata": {},
   "source": [
    "# ROTATING THE IMAGE"
   ]
  },
  {
   "cell_type": "code",
   "execution_count": 23,
   "id": "e3ada1a4-ec32-4f05-9694-e07442688e2b",
   "metadata": {},
   "outputs": [
    {
     "name": "stdout",
     "output_type": "stream",
     "text": [
      "[[  0.64278761   0.76604444 -81.8912804 ]\n",
      " [ -0.76604444   0.64278761 388.38358246]]\n"
     ]
    }
   ],
   "source": [
    "rotate_matrix = cv2.getRotationMatrix2D(center = center, angle=50, scale=1.0)\n",
    "print(rotate_matrix)"
   ]
  },
  {
   "cell_type": "markdown",
   "id": "521e99ca-3e15-4c4a-800c-1aa444cf3044",
   "metadata": {},
   "source": [
    "# DISPLAYING THE ROTATED IMAGE"
   ]
  },
  {
   "cell_type": "code",
   "execution_count": 25,
   "id": "772b7fc8-d40e-46f5-b2c1-56d7c85d84a4",
   "metadata": {},
   "outputs": [],
   "source": [
    "rotate_image1 = cv2.warpAffine(src = img1 ,M = rotate_matrix,dsize = (width,height))\n",
    "rotate_image2 = cv2.warpAffine(src = img2 ,M = rotate_matrix,dsize = (width,height))\n",
    "cv2.imshow(\"orginal_image\",img1)\n",
    "cv2.imshow(\"orginal_image\",img2)\n",
    "cv2.waitKey(0)\n",
    "cv2.imshow(\"Rotated_image\",rotate_image1)\n",
    "cv2.imshow(\"Rotated_image\",rotate_image2)\n",
    "\n",
    "cv2.waitKey(0)\n",
    "cv2.destroyAllWindows()"
   ]
  },
  {
   "cell_type": "markdown",
   "id": "81e35a8a-c5f6-45dc-b61d-a25946a475d7",
   "metadata": {},
   "source": [
    "# OUTPUTS"
   ]
  },
  {
   "cell_type": "code",
   "execution_count": 27,
   "id": "1ace805e-bbde-4dd4-b1c7-2fd9ef834b4a",
   "metadata": {},
   "outputs": [
    {
     "data": {
      "text/plain": [
       "True"
      ]
     },
     "execution_count": 27,
     "metadata": {},
     "output_type": "execute_result"
    }
   ],
   "source": [
    "cv2.imwrite(\"Image1.jpeg\",img1) #RESULT FOR THE READ IMAGES\n",
    "cv2.imwrite(\"Image2.jpeg\",img2)"
   ]
  },
  {
   "cell_type": "code",
   "execution_count": 28,
   "id": "e86c198a-f600-4eba-9c72-c776649471d1",
   "metadata": {},
   "outputs": [
    {
     "data": {
      "text/plain": [
       "True"
      ]
     },
     "execution_count": 28,
     "metadata": {},
     "output_type": "execute_result"
    }
   ],
   "source": [
    "cv2.imwrite(\"Image1.jpeg\",img1) #RESULT FOR THE RESIZED IMAGES\n",
    "cv2.imwrite(\"Image2.jpeg\",img2)"
   ]
  },
  {
   "cell_type": "code",
   "execution_count": 29,
   "id": "5a40e3da-ecbc-4878-8e97-79a9de31ea8c",
   "metadata": {},
   "outputs": [
    {
     "data": {
      "text/plain": [
       "True"
      ]
     },
     "execution_count": 29,
     "metadata": {},
     "output_type": "execute_result"
    }
   ],
   "source": [
    "cv2.imwrite(\"added_image.jpeg\",added_image)  #RESULT FOR THE ADDED_IMAGE\n",
    "cv2.imwrite(\"imAdd.jpeg\",imAdd)  #RESULT FOR THE ADD_WEIGHT_IMAGE"
   ]
  },
  {
   "cell_type": "code",
   "execution_count": 30,
   "id": "82463d22-e3ac-40f2-acc8-7d0a579e8eb8",
   "metadata": {},
   "outputs": [
    {
     "data": {
      "text/plain": [
       "True"
      ]
     },
     "execution_count": 30,
     "metadata": {},
     "output_type": "execute_result"
    }
   ],
   "source": [
    "cv2.imwrite(\"bitwise_or.jpeg\",bitwise_or)  #RESULT FOR THE BITWISE OPERATORS\n",
    "cv2.imwrite(\"bitwise_and.jpeg\",bitwise_and)\n",
    "cv2.imwrite(\"bitwise_xor.jpeg\",bitwise_xor)"
   ]
  },
  {
   "cell_type": "code",
   "execution_count": 31,
   "id": "6a40bd9b-b8d7-4ae9-8f8d-1c3b6b8835bf",
   "metadata": {},
   "outputs": [
    {
     "data": {
      "text/plain": [
       "True"
      ]
     },
     "execution_count": 31,
     "metadata": {},
     "output_type": "execute_result"
    }
   ],
   "source": [
    "cv2.imwrite(\"orginal_image1.jpeg\",img1)  #RESULT FOR THE ORIGINAL_IMAGE1\n",
    "cv2.imwrite(\"orginal_image2.jpeg\",img2)  #RESULT FOR THE ORIGINAL_IMAGE2\n",
    "cv2.imwrite(\"Rotated_image1.jpeg\",rotate_image1)  #RESULT FOR THE ROTATED_IMAGE1\n",
    "cv2.imwrite(\"Rotated_image2.jpeg\",rotate_image2)  #RESULT FOR THE ROTATED_IMAGE2"
   ]
  },
  {
   "cell_type": "code",
   "execution_count": null,
   "id": "f09d2d87-14f6-4aa7-98a2-303a1f473116",
   "metadata": {},
   "outputs": [],
   "source": []
  }
 ],
 "metadata": {
  "kernelspec": {
   "display_name": "Python 3 (ipykernel)",
   "language": "python",
   "name": "python3"
  },
  "language_info": {
   "codemirror_mode": {
    "name": "ipython",
    "version": 3
   },
   "file_extension": ".py",
   "mimetype": "text/x-python",
   "name": "python",
   "nbconvert_exporter": "python",
   "pygments_lexer": "ipython3",
   "version": "3.11.4"
  }
 },
 "nbformat": 4,
 "nbformat_minor": 5
}
