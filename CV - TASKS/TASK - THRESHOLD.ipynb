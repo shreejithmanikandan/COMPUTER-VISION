{
 "cells": [
  {
   "cell_type": "markdown",
   "id": "9875aa76-323e-4c4c-86ed-e435a7c399d1",
   "metadata": {},
   "source": [
    "# IMPORTING LIBRARIES"
   ]
  },
  {
   "cell_type": "code",
   "execution_count": 2,
   "id": "58880c35-6192-4c58-9383-b17f34998dbc",
   "metadata": {},
   "outputs": [],
   "source": [
    "import cv2\n",
    "import numpy as np"
   ]
  },
  {
   "cell_type": "markdown",
   "id": "fa11482f-99f6-473d-b133-b17ce51513a5",
   "metadata": {},
   "source": [
    "# READING IMAGE"
   ]
  },
  {
   "cell_type": "code",
   "execution_count": 4,
   "id": "2ca431b0-121a-461a-aa39-2df7f5118544",
   "metadata": {},
   "outputs": [],
   "source": [
    "img = cv2.imread('angrybirds.jpeg')"
   ]
  },
  {
   "cell_type": "code",
   "execution_count": 5,
   "id": "824617e2-313b-4b09-b602-969ce5017be8",
   "metadata": {},
   "outputs": [
    {
     "name": "stdout",
     "output_type": "stream",
     "text": [
      "(794, 444, 3)\n"
     ]
    }
   ],
   "source": [
    "sp=img.shape\n",
    "print(sp)"
   ]
  },
  {
   "cell_type": "markdown",
   "id": "317c4335-06f7-4440-b891-99e4f3653eab",
   "metadata": {},
   "source": [
    "# CONVERTING THE IMAGE INTO GRAYSCALE"
   ]
  },
  {
   "cell_type": "code",
   "execution_count": 7,
   "id": "34b8c4ab-84d5-4050-9de8-6e15ac78498e",
   "metadata": {},
   "outputs": [],
   "source": [
    "grey = cv2.cvtColor(img,cv2.COLOR_BGR2GRAY)"
   ]
  },
  {
   "cell_type": "markdown",
   "id": "57c114a0-f41d-4d4d-81a8-f1de07b63e61",
   "metadata": {},
   "source": [
    "# BLURRING THE IMAGE"
   ]
  },
  {
   "cell_type": "code",
   "execution_count": 9,
   "id": "7e1ea4c2-7070-482e-bd65-07f83432605b",
   "metadata": {},
   "outputs": [],
   "source": [
    "img1 = cv2.medianBlur(grey,5)"
   ]
  },
  {
   "cell_type": "markdown",
   "id": "a744e2d6-146c-45cb-b405-527fae0a2419",
   "metadata": {},
   "source": [
    "# ADAPTING THRESHOLDING "
   ]
  },
  {
   "cell_type": "code",
   "execution_count": 11,
   "id": "09491eda-dbbd-4164-9ffb-24ef609a8d4b",
   "metadata": {},
   "outputs": [],
   "source": [
    "th=cv2.adaptiveThreshold(img1,255,cv2.ADAPTIVE_THRESH_MEAN_C,cv2.THRESH_BINARY,15,4)\n",
    "\n",
    "cv2.imshow(\"Blur Image\",img1)\n",
    "cv2.imshow(\"MeanC\",th)\n",
    "cv2.waitKey(0)\n",
    "cv2.destroyAllWindows()"
   ]
  },
  {
   "cell_type": "code",
   "execution_count": 12,
   "id": "8d9af6b2-7eda-4c21-8285-bd497ba85d90",
   "metadata": {},
   "outputs": [],
   "source": [
    "th2=cv2.adaptiveThreshold(img1,255,cv2.ADAPTIVE_THRESH_GAUSSIAN_C,cv2.THRESH_BINARY,15,2)\n",
    "\n",
    "cv2.imshow(\"Blur Image\",img1)\n",
    "cv2.imshow(\"Gaussian_C\",th2)\n",
    "cv2.waitKey(0)\n",
    "cv2.destroyAllWindows()"
   ]
  },
  {
   "cell_type": "markdown",
   "id": "afdbbc2f-7bc6-4245-a7c1-4f69067769d4",
   "metadata": {},
   "source": [
    "# OUTPUT"
   ]
  },
  {
   "cell_type": "code",
   "execution_count": 24,
   "id": "63c2789d-f08f-4195-aef8-6d24a7009120",
   "metadata": {},
   "outputs": [
    {
     "data": {
      "text/plain": [
       "True"
      ]
     },
     "execution_count": 24,
     "metadata": {},
     "output_type": "execute_result"
    }
   ],
   "source": [
    "cv2.imwrite(\"adaptive_threshold_meanC.jpeg\",th)\n",
    "cv2.imwrite(\"adaptive_threshold_gaussianC.jpeg\",th2)"
   ]
  },
  {
   "cell_type": "code",
   "execution_count": null,
   "id": "89c8d27d-2ec3-4951-ba75-2dc8636e22c4",
   "metadata": {},
   "outputs": [],
   "source": []
  }
 ],
 "metadata": {
  "kernelspec": {
   "display_name": "Python 3 (ipykernel)",
   "language": "python",
   "name": "python3"
  },
  "language_info": {
   "codemirror_mode": {
    "name": "ipython",
    "version": 3
   },
   "file_extension": ".py",
   "mimetype": "text/x-python",
   "name": "python",
   "nbconvert_exporter": "python",
   "pygments_lexer": "ipython3",
   "version": "3.11.4"
  }
 },
 "nbformat": 4,
 "nbformat_minor": 5
}
