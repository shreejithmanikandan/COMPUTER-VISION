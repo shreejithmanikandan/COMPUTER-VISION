{
 "cells": [
  {
   "cell_type": "markdown",
   "id": "bdc12d3f-ce87-4ca5-8fed-36880fd05429",
   "metadata": {},
   "source": [
    "# IMPORTING LIBRAIES"
   ]
  },
  {
   "cell_type": "code",
   "execution_count": 2,
   "id": "9f6bd391-30a5-498e-9a91-e11198f2bae0",
   "metadata": {},
   "outputs": [],
   "source": [
    "import cv2 as cv\n",
    "import numpy as np\n",
    "import matplotlib.pyplot as plt"
   ]
  },
  {
   "cell_type": "markdown",
   "id": "9a3c6774-0bd6-46dc-9133-91a874a05f32",
   "metadata": {},
   "source": [
    "# CAPTURE THE VIDEO"
   ]
  },
  {
   "cell_type": "code",
   "execution_count": 5,
   "id": "9bb97219-23b4-4965-9498-6698a63a01c9",
   "metadata": {},
   "outputs": [
    {
     "data": {
      "text/plain": [
       "True"
      ]
     },
     "execution_count": 5,
     "metadata": {},
     "output_type": "execute_result"
    }
   ],
   "source": [
    "vid = cv.VideoCapture(0)\n",
    "re, f =vid.read()\n",
    "re"
   ]
  },
  {
   "cell_type": "code",
   "execution_count": 7,
   "id": "da80cd84-3018-4aa4-a509-55239a771367",
   "metadata": {},
   "outputs": [],
   "source": [
    "while(True):\n",
    "    ret, frame = vid.read()\n",
    "    \n",
    "    gray = cv.cvtColor(frame, cv.COLOR_BGR2GRAY)\n",
    "    \n",
    "    sobel_x = cv.Sobel(gray, cv.CV_64F, 1, 0, ksize=5)\n",
    "    sobel_y = cv.Sobel(gray, cv.CV_64F, 0, 1, ksize=5)\n",
    "    grad = cv.sqrt(sobel_x*2 + sobel_y*2)\n",
    "\n",
    "    _,thresh = cv.threshold(grad, 50, 255, cv.THRESH_BINARY)\n",
    "\n",
    "    cv.imshow('Original', frame)\n",
    "    cv.imshow('Object Edges', thresh)\n",
    "    \n",
    "    if cv.waitKey(20) & 0xFF == ord('q'):\n",
    "        break\n",
    "\n",
    "vid.release()\n",
    "cv.destroyAllWindows()"
   ]
  },
  {
   "cell_type": "markdown",
   "id": "bd525f5b-6724-4f88-977a-76b92173fa1f",
   "metadata": {},
   "source": [
    "# WRITING THE VIDEO"
   ]
  },
  {
   "cell_type": "code",
   "execution_count": 9,
   "id": "5194e5b2-2539-4a94-9422-eb24c1ec546d",
   "metadata": {},
   "outputs": [],
   "source": [
    "fourcc = cv.VideoWriter_fourcc(*'mp4v')"
   ]
  },
  {
   "cell_type": "code",
   "execution_count": 12,
   "id": "73cdf1a1-69ca-413a-ac4f-bbd8480a263f",
   "metadata": {},
   "outputs": [],
   "source": [
    "wrt = cv.VideoWriter('me.mp4',fourcc, 50.0,(640,480))"
   ]
  },
  {
   "cell_type": "code",
   "execution_count": 14,
   "id": "79ce1ce6-803e-4756-907f-560f18dec27e",
   "metadata": {},
   "outputs": [],
   "source": [
    "while(vid.isOpened()):\n",
    "    ret, frame = vid.read()\n",
    "    cv.imshow('video',frame)\n",
    "\n",
    "    wrt.write(frame)\n",
    "    cv.imshow('Original', frame)\n",
    "    cv.imshow('Object Edges', thresh)\n",
    "    \n",
    "    if cv.waitKey(30) & 0xFF == ord('q'):\n",
    "        break\n",
    "\n",
    "vid.release()\n",
    "wrt.release()\n",
    "cv.destroyAllWindows()"
   ]
  },
  {
   "cell_type": "code",
   "execution_count": null,
   "id": "7481187c-5273-4d09-8674-35fc8cb5b68c",
   "metadata": {},
   "outputs": [],
   "source": []
  }
 ],
 "metadata": {
  "kernelspec": {
   "display_name": "Python 3 (ipykernel)",
   "language": "python",
   "name": "python3"
  },
  "language_info": {
   "codemirror_mode": {
    "name": "ipython",
    "version": 3
   },
   "file_extension": ".py",
   "mimetype": "text/x-python",
   "name": "python",
   "nbconvert_exporter": "python",
   "pygments_lexer": "ipython3",
   "version": "3.11.4"
  }
 },
 "nbformat": 4,
 "nbformat_minor": 5
}
