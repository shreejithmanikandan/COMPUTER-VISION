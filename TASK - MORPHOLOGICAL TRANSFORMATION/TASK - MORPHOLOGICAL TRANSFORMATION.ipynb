{
 "cells": [
  {
   "cell_type": "markdown",
   "id": "4d5e62e0-181b-455d-95a2-038b7e4241ab",
   "metadata": {},
   "source": [
    "# IMPORTING LIBRARIES"
   ]
  },
  {
   "cell_type": "code",
   "execution_count": 3,
   "id": "f658f061-f63c-451f-bb07-39a504d0b963",
   "metadata": {},
   "outputs": [],
   "source": [
    "import cv2 as cv\n",
    "import numpy as np\n",
    "import matplotlib.pyplot as plt"
   ]
  },
  {
   "cell_type": "markdown",
   "id": "d73282df-b73c-4ac9-9f04-07c73c09f28a",
   "metadata": {},
   "source": [
    "# CAPTURING LIVE FEED"
   ]
  },
  {
   "cell_type": "code",
   "execution_count": 5,
   "id": "ff6e6d2e-799f-4e01-b7ac-ab5155ed69a5",
   "metadata": {},
   "outputs": [
    {
     "data": {
      "text/plain": [
       "True"
      ]
     },
     "execution_count": 5,
     "metadata": {},
     "output_type": "execute_result"
    }
   ],
   "source": [
    "vid = cv.VideoCapture(0)\n",
    "re, f = vid.read()\n",
    "re"
   ]
  },
  {
   "cell_type": "markdown",
   "id": "02e6cd26-9698-4040-a296-3dfa86054e1e",
   "metadata": {},
   "source": [
    "# STRUCTURING KERNEL"
   ]
  },
  {
   "cell_type": "code",
   "execution_count": 7,
   "id": "fe5dc526-c6e1-4900-8c37-53f5fc5af5cd",
   "metadata": {},
   "outputs": [],
   "source": [
    "kernel = np.ones((3,3),np.uint8)"
   ]
  },
  {
   "cell_type": "code",
   "execution_count": 8,
   "id": "e3e31db2-1a87-46ab-8b51-ef46fdf84eee",
   "metadata": {},
   "outputs": [
    {
     "data": {
      "text/plain": [
       "array([[1, 1, 1],\n",
       "       [1, 1, 1],\n",
       "       [1, 1, 1]], dtype=uint8)"
      ]
     },
     "execution_count": 8,
     "metadata": {},
     "output_type": "execute_result"
    }
   ],
   "source": [
    "kernel"
   ]
  },
  {
   "cell_type": "markdown",
   "id": "e22c2d0a-b167-43f2-acc6-ecb7e5618b3e",
   "metadata": {},
   "source": [
    "# SHOWING END RESULTS"
   ]
  },
  {
   "cell_type": "code",
   "execution_count": 10,
   "id": "1b710c49-64fe-4320-944d-08ba9a26ab7c",
   "metadata": {},
   "outputs": [],
   "source": [
    "while (True):\n",
    "    ret, frame = vid.read()\n",
    "    video = cv.cvtColor(frame,cv.COLOR_BGR2GRAY)\n",
    "    ret, binary = cv.threshold(video,200,255,cv.THRESH_BINARY)\n",
    "    \n",
    "    erosion = cv.erode(binary,kernel, iterations = 2)\n",
    "    dilation = cv.dilate(binary,kernel, iterations = 2)\n",
    "    open = cv.morphologyEx(binary, cv.MORPH_OPEN, kernel)\n",
    "    close = cv.morphologyEx(binary, cv.MORPH_CLOSE, kernel)\n",
    "    gradient = cv.morphologyEx(binary, cv.MORPH_GRADIENT, kernel)\n",
    "    tophat = cv.morphologyEx(binary, cv.MORPH_TOPHAT, kernel)\n",
    "    blackhat = cv.morphologyEx(binary, cv.MORPH_BLACKHAT, kernel)\n",
    "    \n",
    "    cv.imshow('frame', frame)\n",
    "    cv.imshow('binary', binary)\n",
    "    cv.imshow('dilation', dilation)\n",
    "    cv.imshow('open', open)\n",
    "    cv.imshow('close', close)\n",
    "    cv.imshow('gradient', gradient)\n",
    "    cv.imshow('tophat', tophat)\n",
    "    cv.imshow('blackhat', blackhat)\n",
    "    \n",
    "    if cv.waitKey(20) & 0xFF == ord('q'):\n",
    "        break\n",
    "vid.release()\n",
    "cv.destroyAllWindows()"
   ]
  },
  {
   "cell_type": "markdown",
   "id": "b925e39e-f084-4ebc-bf23-08d434221696",
   "metadata": {},
   "source": [
    "# WRITING THE RESULT "
   ]
  },
  {
   "cell_type": "code",
   "execution_count": 12,
   "id": "d6e76311-56b8-4e2c-8c62-dec7cb44ce35",
   "metadata": {},
   "outputs": [],
   "source": [
    "fourcc = cv.VideoWriter_fourcc(*'mp4v')"
   ]
  },
  {
   "cell_type": "code",
   "execution_count": 14,
   "id": "8cd52bee-6095-4e0e-9175-6d5ade238a0f",
   "metadata": {},
   "outputs": [],
   "source": [
    "wrt = cv.VideoWriter('me.mp4',fourcc, 50.0,(640,480))"
   ]
  },
  {
   "cell_type": "code",
   "execution_count": 16,
   "id": "9294fb99-f098-464f-8230-7ea53ea8e6c7",
   "metadata": {},
   "outputs": [],
   "source": [
    "while(vid.isOpened()):\n",
    "    ret, frame = vid.read()\n",
    "    \n",
    "    wrt.write(frame)\n",
    "    wrt.write(binary)\n",
    "    wrt.write(dilation)\n",
    "    wrt.write(open)\n",
    "    wrt.write(close)\n",
    "    wrt.write(gradient)\n",
    "    wrt.write(tophat)\n",
    "    wrt.write(blackhat)\n",
    "    \n",
    "    cv.imshow('frame',frame)\n",
    "    cv.imshow('binary', binary)\n",
    "    cv.imshow('dilation', dilation)\n",
    "    cv.imshow('open', open)\n",
    "    cv.imshow('close', close)\n",
    "    cv.imshow('gradient', gradient)\n",
    "    cv.imshow('tophat', tophat)\n",
    "    cv.imshow('blackhat', blackhat)\n",
    "    \n",
    "    if cv2.waitKey(30) & 0xFF == ord('q'):\n",
    "        break\n",
    "\n",
    "vid.release()\n",
    "wrt.release()\n",
    "cv.destroyAllWindows()"
   ]
  },
  {
   "cell_type": "code",
   "execution_count": null,
   "id": "f8dd8eaa-1ee5-448d-b5b0-acf88788df70",
   "metadata": {},
   "outputs": [],
   "source": []
  }
 ],
 "metadata": {
  "kernelspec": {
   "display_name": "Python 3 (ipykernel)",
   "language": "python",
   "name": "python3"
  },
  "language_info": {
   "codemirror_mode": {
    "name": "ipython",
    "version": 3
   },
   "file_extension": ".py",
   "mimetype": "text/x-python",
   "name": "python",
   "nbconvert_exporter": "python",
   "pygments_lexer": "ipython3",
   "version": "3.11.4"
  }
 },
 "nbformat": 4,
 "nbformat_minor": 5
}
